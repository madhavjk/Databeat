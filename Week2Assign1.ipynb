{
  "nbformat": 4,
  "nbformat_minor": 0,
  "metadata": {
    "colab": {
      "name": "Week2Assign1.ipynb",
      "provenance": [],
      "collapsed_sections": [],
      "authorship_tag": "ABX9TyPUIPVQRyjN0HCCLs4gtnTK",
      "include_colab_link": true
    },
    "kernelspec": {
      "name": "python3",
      "display_name": "Python 3"
    },
    "language_info": {
      "name": "python"
    }
  },
  "cells": [
    {
      "cell_type": "markdown",
      "metadata": {
        "id": "view-in-github",
        "colab_type": "text"
      },
      "source": [
        "<a href=\"https://colab.research.google.com/github/madhavjk/Databeat/blob/main/Week2Assign1.ipynb\" target=\"_parent\"><img src=\"https://colab.research.google.com/assets/colab-badge.svg\" alt=\"Open In Colab\"/></a>"
      ]
    },
    {
      "cell_type": "markdown",
      "source": [
        "##  1) Single Responsibility Principle (aka Separation Of Concerns)\n",
        "A class should have only one primary responsibility and reason to change\n",
        "\n",
        "Let’s take an example of a Telephone Directory application. \n",
        "We are designing a Telephone Directory and that contains a TelephoneDirectory Class which is supposed to handle primary responsibility \n",
        "of maintaining Telephone Directory entries, i. e Telephone numbers and Names of the entities to which the Telephone Numbers belong. \n",
        "Thus, the operations that this class is expected to perform are adding a new entry (Name and Telephone Number), delete an existing entry, \n",
        "change a Telephone Number assigned to a particular entity Name, and provide a lookup that returns Telephone Number assigned to a \n",
        "particular entity Name."
      ],
      "metadata": {
        "id": "qfD55Sx_Wkc1"
      }
    },
    {
      "cell_type": "code",
      "execution_count": 1,
      "metadata": {
        "colab": {
          "base_uri": "https://localhost:8080/"
        },
        "id": "zSSUfeCnWaYr",
        "outputId": "5e8a50c6-9a6b-43de-ec93-18a3657d1810"
      },
      "outputs": [
        {
          "output_type": "stream",
          "name": "stdout",
          "text": [
            "Ravi : 123456\n",
            "Vikas : 678452\n",
            "\n",
            "776589\n",
            "Vikas : 776589\n",
            "Ravi : 123456\n",
            "\n"
          ]
        }
      ],
      "source": [
        "\n",
        "\n",
        "\n",
        "class TelephoneDirectory:\n",
        "  def __init__(self):\n",
        "    self.telephonedirectory = {}\n",
        "\n",
        "  def add_entry(self, name, number):\n",
        "    self.telephonedirectory[name] = number\n",
        "\n",
        "  def delete_entry(self, name):\n",
        "    self.telephonedirectory.pop(name)\n",
        "\n",
        "  def update_entry(self, name, number):\n",
        "    self.telephonedirectory[name] = number\n",
        "\n",
        "  def lookup_number(self, name):\n",
        "    return self.telephonedirectory[name]\n",
        " \n",
        "  def __str__(self):\n",
        "    ret_dct = \"\"\n",
        "    for key, value in self.telephonedirectory.items():\n",
        "      ret_dct += f'{key} : {value}\\n'\n",
        "    return ret_dct\n",
        "\n",
        "myTelephoneDirectory = TelephoneDirectory()\n",
        "myTelephoneDirectory.add_entry(\"Ravi\", 123456)\n",
        "myTelephoneDirectory.add_entry(\"Vikas\", 678452)\n",
        "print(myTelephoneDirectory)\n",
        "\n",
        "myTelephoneDirectory.delete_entry(\"Ravi\")\n",
        "myTelephoneDirectory.add_entry(\"Ravi\", 123456)\n",
        "myTelephoneDirectory.update_entry(\"Vikas\", 776589)\n",
        "print(myTelephoneDirectory.lookup_number(\"Vikas\"))\n",
        "print(myTelephoneDirectory)"
      ]
    },
    {
      "cell_type": "markdown",
      "source": [
        "Now, let’s say that there are two more requirements in the project – Persist the contents of Telephone Directory to a \n",
        "Database and transfer the contents of Telephone Directory to a file. \n",
        "So we can add two more methods to the TelephoneDirectory class as shown in this example.\n",
        "Now this is where we broke the Single Responsibility Design Principle. By adding the functionalities of persisting to \n",
        "database and saving to file, we gave additional responsibilities to TelephoneDirectory class which are not its primary responsibility. \n",
        "This class now has additional features that can cause it to change. In future if there are any requirements related to persisting the \n",
        "data then those can cause changes to the TelephoneDirectory class. Thus, TelephoneDirectory is prone to changes due to the reasons \n",
        "that are not its primary responsibility."
      ],
      "metadata": {
        "id": "TP4XJ80KW_Zq"
      }
    },
    {
      "cell_type": "code",
      "source": [
        "class TelephoneDirectory:\n",
        "  def __init__(self):\n",
        "    self.telephonedirectory = {}\n",
        "\n",
        "  def add_entry(self, name, number):\n",
        "    self.telephonedirectory[name] = number\n",
        "\n",
        "  def delete_entry(self, name):\n",
        "    self.telephonedirectory.pop(name)\n",
        "\n",
        "  def update_entry(self, name, number):\n",
        "    self.telephonedirectory[name] = number\n",
        "\n",
        "  def lookup_number(self, name):\n",
        "    return self.telephonedirectory[name]\n",
        " \n",
        "  def save_to_file(self, file_name, location):\n",
        "    #code to save the contents of telephonedirectory dictionary to the file\n",
        "    pass\n",
        "\n",
        "  def persist_to_database(self, database_details):\n",
        "    #code to persist the contents of telephonedirectory dictionary to database\n",
        "    pass\n",
        "\n",
        "  def __str__(self):\n",
        "    ret_dct = \"\"\n",
        "    for key, value in self.telephonedirectory.items():\n",
        "      ret_dct += f'{key} : {value}\\n'\n",
        "    return ret_dct\n",
        "\n",
        "myTelephoneDirectory = TelephoneDirectory()\n",
        "myTelephoneDirectory.add_entry(\"Ravi\", 123456)\n",
        "myTelephoneDirectory.add_entry(\"Vikas\", 678452)\n",
        "print(myTelephoneDirectory)\n",
        "\n",
        "myTelephoneDirectory.delete_entry(\"Ravi\")\n",
        "myTelephoneDirectory.add_entry(\"Ravi\", 123456)\n",
        "myTelephoneDirectory.update_entry(\"Vikas\", 776589)\n",
        "print(myTelephoneDirectory.lookup_number(\"Vikas\"))\n",
        "print(myTelephoneDirectory)"
      ],
      "metadata": {
        "colab": {
          "base_uri": "https://localhost:8080/"
        },
        "id": "aiplMN8tX_wM",
        "outputId": "6216fcde-8552-4d16-9635-db92bd5f0818"
      },
      "execution_count": 2,
      "outputs": [
        {
          "output_type": "stream",
          "name": "stdout",
          "text": [
            "Ravi : 123456\n",
            "Vikas : 678452\n",
            "\n",
            "776589\n",
            "Vikas : 776589\n",
            "Ravi : 123456\n",
            "\n"
          ]
        }
      ]
    },
    {
      "cell_type": "markdown",
      "source": [
        "Single Responsibility Principle asks us not to add additional responsibilities to a class so that we don’t have to modify a class \n",
        "unless there is change to its primary responsibility. We can handle the current situation by having separate classes that would \n",
        "handle database persistence and saving to file. We can pass the TelephoneDirectory object to the objects of those classes and \n",
        "write any additional features in those classes. \n",
        "This would ensure that TelephoneDirectory class has only one reason to change that is any change in its primary responsibility"
      ],
      "metadata": {
        "id": "Ha9W7-MMYhSH"
      }
    },
    {
      "cell_type": "code",
      "source": [
        "class TelephoneDirectory:\n",
        "  def __init__(self):\n",
        "    self.telephonedirectory = {}\n",
        "\n",
        "  def add_entry(self, name, number):\n",
        "    self.telephonedirectory[name] = number\n",
        "\n",
        "  def delete_entry(self, name):\n",
        "    self.telephonedirectory.pop(name)\n",
        "\n",
        "  def update_entry(self, name, number):\n",
        "    self.telephonedirectory[name] = number\n",
        "\n",
        "  def lookup_number(self, name):\n",
        "    return self.telephonedirectory[name]\n",
        " \n",
        "  def save_to_file(self, file_name, location):\n",
        "    #code to save the contents of telephonedirectory dictionary to the file\n",
        "    pass\n",
        "\n",
        "  def persist_to_database(self, database_details):\n",
        "    #code to persist the contents of telephonedirectory dictionary to database\n",
        "    pass\n",
        "\n",
        "  def __str__(self):\n",
        "    ret_dct = \"\"\n",
        "    for key, value in self.telephonedirectory.items():\n",
        "      ret_dct += f'{key} : {value}\\n'\n",
        "    return ret_dct\n",
        "\n",
        "class persist_to_database:\n",
        "  #functionality of the class\n",
        "  def __init__(self, object_to_persist):\n",
        "    pass\n",
        "\n",
        "class save_to_file:\n",
        "  #functionality of the class\n",
        "  def __init__(self, object_to_save):\n",
        "    pass\n",
        "\n",
        "myTelephoneDirectory = TelephoneDirectory()\n",
        "myTelephoneDirectory.add_entry(\"Ravi\", 123456)\n",
        "myTelephoneDirectory.add_entry(\"Vikas\", 678452)\n",
        "print(myTelephoneDirectory)\n",
        "\n",
        "myTelephoneDirectory.delete_entry(\"Ravi\")\n",
        "myTelephoneDirectory.add_entry(\"Ravi\", 123456)\n",
        "myTelephoneDirectory.update_entry(\"Vikas\", 776589)\n",
        "print(myTelephoneDirectory.lookup_number(\"Vikas\"))\n",
        "print(myTelephoneDirectory)"
      ],
      "metadata": {
        "colab": {
          "base_uri": "https://localhost:8080/"
        },
        "id": "LxFHbnToYi7N",
        "outputId": "b8ec0f20-fb24-45ae-99f6-eb067bf1e8da"
      },
      "execution_count": 3,
      "outputs": [
        {
          "output_type": "stream",
          "name": "stdout",
          "text": [
            "Ravi : 123456\n",
            "Vikas : 678452\n",
            "\n",
            "776589\n",
            "Vikas : 776589\n",
            "Ravi : 123456\n",
            "\n"
          ]
        }
      ]
    },
    {
      "cell_type": "markdown",
      "source": [
        "## 2)  Open - Close Principle\n",
        " Software entities (classes, modules, functions, etc.) should be open for extension, but closed for modification\n",
        "\n",
        "As shown in this example we have now a very simple base class DiscountCalculator that has a single abstract method get_discounted_price. \n",
        "We have created new classes for apparels that extends the base DiscountCalculator class. Hence now every sub class would need to \n",
        "implement the discount part on itself. By doing this we have now removed the previous constraints that required modification to the \n",
        "base class. Now without modifying the base class we can add more apparels as well as we can change discount amount of an individual \n",
        "apparel as needed. \n",
        "'''\n",
        "\n"
      ],
      "metadata": {
        "id": "MRi9zfduY2qw"
      }
    },
    {
      "cell_type": "code",
      "source": [
        "from enum import Enum\n",
        "from abc import ABCMeta, abstractmethod\n",
        "\n",
        "class DiscountCalculator():\n",
        "\n",
        "  @abstractmethod\n",
        "  def get_discounted_price(self):\n",
        "    pass\n",
        "\n",
        "class DiscountCalculatorShirt(DiscountCalculator):\n",
        "  def __init__(self, cost):\n",
        "    self.cost = cost\n",
        "\n",
        "  def get_discounted_price(self):\n",
        "      return self.cost - (self.cost * 0.10)\n",
        "\n",
        "class DiscountCalculatorTshirt(DiscountCalculator):\n",
        "  def __init__(self, cost):\n",
        "    self.cost = cost\n",
        "\n",
        "  def get_discounted_price(self):\n",
        "      return self.cost - (self.cost * 0.15)\n",
        "\n",
        "class DiscountCalculatorPant(DiscountCalculator):\n",
        "  def __init__(self, cost):\n",
        "    self.cost = cost\n",
        "\n",
        "  def get_discounted_price(self):\n",
        "      return self.cost - (self.cost * 0.25)\n",
        "\n",
        "dc_Shirt = DiscountCalculatorShirt(100)\n",
        "print(dc_Shirt.get_discounted_price())\n",
        "\n",
        "dc_TShirt = DiscountCalculatorTshirt(100)\n",
        "print(dc_TShirt.get_discounted_price())\n",
        "\n",
        "dc_Pant = DiscountCalculatorPant(100)\n",
        "print(dc_Pant.get_discounted_price())"
      ],
      "metadata": {
        "colab": {
          "base_uri": "https://localhost:8080/"
        },
        "id": "5346AWzvZJM9",
        "outputId": "6f8dbcd0-62c5-477c-890f-c309fc4d6821"
      },
      "execution_count": 4,
      "outputs": [
        {
          "output_type": "stream",
          "name": "stdout",
          "text": [
            "90.0\n",
            "85.0\n",
            "75.0\n"
          ]
        }
      ]
    },
    {
      "cell_type": "markdown",
      "source": [
        "# 3) Liskov Substitution Principle\n",
        "Objects in a program should be replaceable with instances of their subtypes without altering the correctness of that program\n",
        "\n",
        "\n",
        "A better way to implement this would be to introduce setter and getter methods in the Super class Car using which we can set and \n",
        "get Car’s properties without leaving that implementation to individual developers. This way we just get the properties through a \n",
        "setter method and its implementation remains internal to the Super class. "
      ],
      "metadata": {
        "id": "AtFqOtTUZNQ8"
      }
    },
    {
      "cell_type": "code",
      "source": [
        "class Car():\n",
        "  def __init__(self, type):\n",
        "    self.type = type\n",
        "    self.car_properties = {}\n",
        "  \n",
        "  def set_properties(self, color, gear, capacity):\n",
        "    self.car_properties = {\"Color\": color, \"Gear\": gear, \"Capacity\": capacity}\n",
        "\n",
        "  def get_properties(self):\n",
        "    return self.car_properties\n",
        "\n",
        "class PetrolCar(Car):\n",
        "  def __init__(self, type):\n",
        "    self.type = type\n",
        "    self.car_properties = {}\n",
        "\n",
        "car = Car(\"SUV\")\n",
        "car.set_properties(\"Red\", \"Auto\", 6)\n",
        "\n",
        "petrol_car = PetrolCar(\"Sedan\")\n",
        "petrol_car.set_properties(\"Blue\", \"Manual\", 4)\n",
        "\n",
        "cars = [car, petrol_car]\n",
        "\n",
        "def find_red_cars(cars):\n",
        "  red_cars = 0\n",
        "  for car in cars:\n",
        "    if car.get_properties()['Color'] == \"Red\":\n",
        "      red_cars += 1\n",
        "  print(f'Number of Red Cars = {red_cars}')\n",
        "\n",
        "find_red_cars(cars)"
      ],
      "metadata": {
        "colab": {
          "base_uri": "https://localhost:8080/"
        },
        "id": "rL9PwGE3ZXuz",
        "outputId": "8036d49a-ca21-4854-f735-f88b0661d3ba"
      },
      "execution_count": 5,
      "outputs": [
        {
          "output_type": "stream",
          "name": "stdout",
          "text": [
            "Number of Red Cars = 1\n"
          ]
        }
      ]
    },
    {
      "cell_type": "markdown",
      "source": [
        "# 4) Interface Substitution Principle\n",
        " No client should be forced to depend on methods it does not use\n",
        "\n",
        "Smaller role interfaces are created for each feature and the classes would only extend the required interfaces and implement the\n",
        "relevant methods"
      ],
      "metadata": {
        "id": "b6jz93tdZy9R"
      }
    },
    {
      "cell_type": "code",
      "source": [
        "from abc import ABCMeta, abstractmethod\n",
        "\n",
        "\n",
        "\n",
        "\n",
        "class CallingDevice():\n",
        "  @abstractmethod\n",
        "  def make_calls():\n",
        "    pass\n",
        "\n",
        "class MessagingDevice():\n",
        "  @abstractmethod\n",
        "  def send_sms():\n",
        "    pass\n",
        "\n",
        "class InternetbrowsingDevice():\n",
        "  @abstractmethod\n",
        "  def browse_internet():\n",
        "    pass\n",
        "\n",
        "class SmartPhone(CallingDevice, MessagingDevice, InternetbrowsingDevice):\n",
        "  def make_calls():\n",
        "    #implementation\n",
        "    pass\n",
        "\n",
        "  def send_sms():\n",
        "    #implementation\n",
        "    pass\n",
        "\n",
        "  def browse_internet():\n",
        "    #implementation\n",
        "    pass\n",
        "\n",
        "class LandlinePhone(CallingDevice):\n",
        "  def make_calls():\n",
        "    #implementation\n",
        "    pass"
      ],
      "metadata": {
        "id": "GGd-qm1SZzSI"
      },
      "execution_count": 6,
      "outputs": []
    },
    {
      "cell_type": "markdown",
      "source": [
        "# 5)Dependency Inversion Principle\n",
        " a). High level module should not depend on low level modules. Both should depend on abstractions\n",
        " b). Abstractions should not depend on details. Details should depend on abstractionsfrom enum import Enum\n",
        "\n",
        "\n",
        "To comply to Dependency Inversion Principle, we need to ensure that high level class Anslysis should not depend on concrete implementation of low level class TeamMemberships. Instead it should depend on some abstraction.\n",
        "\n",
        "So, we create an interface TeamMembershipLookup that contains an abstract method find_all_students_of_team which is passed to any class that inherits from this interface. We make our TeamMembership class to inherit from this interface and hence now TeamMembership class needs to provide an implementation of the find_all_students_of_team function. This function then yields the results to any other calling entity. We moved the processing that was done in high-level Analysis class to TeamMemberships class through the \n",
        "interface TeamMembershipLookup.\n",
        "\n",
        "So, by doing this we have removed dependency of high level class Analysis from low level class TeamMemberships and transferred this \n",
        "dependency to interface TeamMembershipLookup. Now the high-level class doesn’t depend on implementation details of low level class. \n",
        "Any changes to the implementation details of low level class doesn’t impact the high-level class."
      ],
      "metadata": {
        "id": "eXcamAQmaDKv"
      }
    },
    {
      "cell_type": "code",
      "source": [
        "from enum import Enum\n",
        "from abc import ABCMeta, abstractmethod\n",
        "\n",
        "class Teams(Enum):\n",
        "  BLUE_TEAM = 1\n",
        "  RED_TEAM = 2\n",
        "  GREEN_TEAM = 3\n",
        "\n",
        "class TeamMembershipLookup():\n",
        "  @abstractmethod\n",
        "  def find_all_students_of_team(self, team):\n",
        "    pass\n",
        "\n",
        "class Student:\n",
        "  def __init__(self, name):\n",
        "    self.name = name\n",
        "\n",
        "class TeamMemberships(TeamMembershipLookup):\n",
        "  def __init__(self):\n",
        "    self.team_memberships = []\n",
        "\n",
        "  def add_team_memberships(self, student, team):\n",
        "    self.team_memberships.append((student, team))\n",
        "\n",
        "  def find_all_students_of_team(self, team):\n",
        "    for members in self.team_memberships:\n",
        "      if members[1] == team:\n",
        "        yield members[0].name   \n",
        "\n",
        "class Analysis():\n",
        "  def __init__(self, team_membership_lookup):\n",
        "    for student in team_membership_lookup.find_all_students_of_team(Teams.RED_TEAM):\n",
        "      print(f'{student} is in RED team.')\n",
        "\n",
        "student1 = Student('Ravi')\n",
        "student2 = Student('Archie')\n",
        "student3 = Student('James')\n",
        "\n",
        "team_memberships = TeamMemberships()\n",
        "team_memberships.add_team_memberships(student1, Teams.BLUE_TEAM)\n",
        "team_memberships.add_team_memberships(student2, Teams.RED_TEAM)\n",
        "team_memberships.add_team_memberships(student3, Teams.GREEN_TEAM)\n",
        "\n",
        "Analysis(team_memberships)"
      ],
      "metadata": {
        "colab": {
          "base_uri": "https://localhost:8080/"
        },
        "id": "WjNxD993aDfr",
        "outputId": "83193ff2-cfb3-48da-db24-d691d3215012"
      },
      "execution_count": 7,
      "outputs": [
        {
          "output_type": "stream",
          "name": "stdout",
          "text": [
            "Archie is in RED team.\n"
          ]
        },
        {
          "output_type": "execute_result",
          "data": {
            "text/plain": [
              "<__main__.Analysis at 0x7f39e9b6a550>"
            ]
          },
          "metadata": {},
          "execution_count": 7
        }
      ]
    }
  ]
}